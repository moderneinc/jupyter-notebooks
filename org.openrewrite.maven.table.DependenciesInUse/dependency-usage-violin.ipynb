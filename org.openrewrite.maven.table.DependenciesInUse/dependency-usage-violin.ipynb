{
 "cells": [
  {
   "attachments": {},
   "cell_type": "markdown",
   "id": "830caf6b-ebe5-443a-9327-2fda47f5fb35",
   "metadata": {},
   "source": [
    "# Dependency usage\n",
    "\n",
    "This notebook shows the distribution of dependencies by version\n",
    "\n",
    "_Note: If you have opened this notebook from Moderne, the data table is already loaded locally as `./dependency-usage-violin.xlsx`._"
   ]
  },
  {
   "cell_type": "code",
   "execution_count": 104,
   "id": "820b4dba-ba58-44b9-8b32-fbe3ba3d60bf",
   "metadata": {
    "tags": []
   },
   "outputs": [],
   "source": [
    "data_table_file = \"./dependency-usage-violin.xlsx\""
   ]
  },
  {
   "cell_type": "code",
   "execution_count": null,
   "id": "db5f1ce1",
   "metadata": {},
   "outputs": [],
   "source": [
    "import piplite\n",
    "\n",
    "await piplite.install('pandas')\n",
    "await piplite.install('openpyxl')\n",
    "await piplite.install('matplotlib')\n",
    "await piplite.install('seaborn')\n",
    "await piplite.install('code_data_science')"
   ]
  },
  {
   "cell_type": "code",
   "execution_count": 105,
   "id": "43ef2f91-0c39-4aaa-9319-d97d196e2bef",
   "metadata": {
    "tags": []
   },
   "outputs": [],
   "source": [
    "import pandas as pd\n",
    "import warnings\n",
    "warnings.simplefilter(\"ignore\")"
   ]
  },
  {
   "cell_type": "code",
   "execution_count": null,
   "id": "7658e11a",
   "metadata": {},
   "outputs": [],
   "source": [
    "df = pd.read_excel(data_table_file,engine=\"openpyxl\")"
   ]
  },
  {
   "cell_type": "code",
   "execution_count": null,
   "id": "652ca2e8-1571-47d5-afe7-824cef81d446",
   "metadata": {
    "tags": []
   },
   "outputs": [],
   "source": [
    "df = df[['artifactId', 'version', 'depth']]\n",
    "#df['version'] = list(map(lambda v: \".\".join(v.split(\".\")[0:2]), df['version']))\n",
    "print(df.head())"
   ]
  },
  {
   "cell_type": "code",
   "execution_count": null,
   "id": "23666735-78fe-4b22-9a79-4886389e5cf8",
   "metadata": {
    "tags": []
   },
   "outputs": [],
   "source": [
    "from code_data_science.index_versions import index_versions\n",
    "vmap = index_versions(df.version)\n",
    "df['nVersion'] = list(map(lambda v: vmap[v], df.version))\n",
    "\n",
    "def index_ga(groupartifacts):\n",
    "    sorted_ga = sorted(list(set(groupartifacts)))\n",
    "    return { ga : sorted_ga.index(ga) for ga in sorted_ga }\n",
    "gmap = index_ga(df.artifactId)\n",
    "df['nArtifactId'] = list(map(lambda g: gmap[g], df.artifactId))\n",
    "\n",
    "df = df.sort_values(by=['nVersion', 'nArtifactId'])\n",
    "print(df.head())"
   ]
  },
  {
   "cell_type": "code",
   "execution_count": null,
   "id": "05fb538f-031e-440d-952d-320b09b5e954",
   "metadata": {
    "tags": []
   },
   "outputs": [],
   "source": [
    "import seaborn as sns\n",
    "import matplotlib.pyplot as plt\n",
    "\n",
    "sns.set(context=\"notebook\")\n",
    "sns.set_style(\"whitegrid\")\n",
    "fig, ax = plt.subplots(figsize=(18,7))\n",
    "\n",
    "sns.stripplot(x=\"nArtifactId\", y=\"nVersion\", data=df, size=8, ax=ax, palette=\"bright\")\n",
    "sns.violinplot(x=\"nArtifactId\", y=\"nVersion\", data=df, size=8, ax=ax, palette=\"deep\")\n",
    "\n",
    "ax.yaxis.set_ticks(list(vmap.values()), labels=list(vmap.keys()))\n",
    "ax.xaxis.set_ticks(list(gmap.values()), labels=list(gmap.keys()))\n",
    "ax.set_yticklabels(labels=list(vmap.keys()))\n",
    "ax.set_xticklabels(labels=list(gmap.keys()), rotation=90)\n",
    "ax.set_xlabel(\"Artifacts\")\n",
    "ax.set_ylabel(\"Versions\")\n",
    "ax.set_title(\"Artifact versions in use\")\n",
    "plt.show()"
   ]
  }
 ],
 "metadata": {
  "kernelspec": {
   "display_name": "Python 3",
   "language": "python",
   "name": "python3"
  },
  "language_info": {
   "codemirror_mode": {
    "name": "ipython",
    "version": 3
   },
   "file_extension": ".py",
   "mimetype": "text/x-python",
   "name": "python",
   "nbconvert_exporter": "python",
   "pygments_lexer": "ipython3",
   "version": "3.11.1 (main, Dec 23 2022, 09:28:24) [Clang 14.0.0 (clang-1400.0.29.202)]"
  },
  "vscode": {
   "interpreter": {
    "hash": "5c7b89af1651d0b8571dde13640ecdccf7d5a6204171d6ab33e7c296e100e08a"
   }
  }
 },
 "nbformat": 4,
 "nbformat_minor": 5
}
