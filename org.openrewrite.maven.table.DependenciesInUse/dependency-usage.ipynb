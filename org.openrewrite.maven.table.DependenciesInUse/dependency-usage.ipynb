{
 "cells": [
  {
   "attachments": {},
   "cell_type": "markdown",
   "id": "830caf6b-ebe5-443a-9327-2fda47f5fb35",
   "metadata": {},
   "source": [
    "# Dependency usage\n",
    "\n",
    "This notebook shows the distribution of dependencies by version\n",
    "\n",
    "_Note: If you have opened this notebook from Moderne, the data table is already loaded locally as `./dependency-usage.xlsx`._"
   ]
  },
  {
   "cell_type": "code",
   "execution_count": 155,
   "id": "820b4dba-ba58-44b9-8b32-fbe3ba3d60bf",
   "metadata": {
    "tags": []
   },
   "outputs": [],
   "source": [
    "data_table_file = \"./dependency-usage.xlsx\""
   ]
  },
  {
   "cell_type": "code",
   "execution_count": null,
   "id": "6988ea71",
   "metadata": {},
   "outputs": [],
   "source": [
    "import piplite\n",
    "\n",
    "await piplite.install('pandas')\n",
    "await piplite.install('openpyxl')\n",
    "await piplite.install('matplotlib')"
   ]
  },
  {
   "cell_type": "code",
   "execution_count": 156,
   "id": "43ef2f91-0c39-4aaa-9319-d97d196e2bef",
   "metadata": {
    "tags": []
   },
   "outputs": [],
   "source": [
    "import pandas as pd\n",
    "import warnings\n",
    "warnings.simplefilter(\"ignore\")"
   ]
  },
  {
   "cell_type": "code",
   "execution_count": null,
   "id": "32d28e82",
   "metadata": {},
   "outputs": [],
   "source": [
    "df = pd.read_excel(data_table_file,engine=\"openpyxl\")"
   ]
  },
  {
   "cell_type": "code",
   "execution_count": 157,
   "id": "652ca2e8-1571-47d5-afe7-824cef81d446",
   "metadata": {
    "tags": []
   },
   "outputs": [],
   "source": [
    "df_by_gav = df[['version', 'groupId', 'artifactId']].groupby(by = ['version', 'groupId', 'artifactId'])['version'].count().sort_values(ascending=False).reset_index(name='count')\n",
    "df_by_gav['groupArtifact'] = df_by_gav[['groupId','artifactId']].apply(':\\n'.join, axis=1)\n",
    "df_by_gav = df_by_gav.drop(columns=['groupId', 'artifactId'])\n",
    "df_by_gav = df_by_gav.set_index(['groupArtifact','version'], drop = True).sort_values(by = 'version').unstack('version').head(30)"
   ]
  },
  {
   "cell_type": "code",
   "execution_count": null,
   "id": "3be533e0-2181-418e-be1d-3d427981da24",
   "metadata": {
    "tags": []
   },
   "outputs": [],
   "source": [
    "plot = df_by_gav.T.droplevel(0).plot.bar(subplots=True, figsize=(20, 20), layout=(6,5), legend=False)"
   ]
  }
 ],
 "metadata": {
  "kernelspec": {
   "display_name": "Python 3",
   "language": "python",
   "name": "python3"
  },
  "language_info": {
   "codemirror_mode": {
    "name": "ipython",
    "version": 3
   },
   "file_extension": ".py",
   "mimetype": "text/x-python",
   "name": "python",
   "nbconvert_exporter": "python",
   "pygments_lexer": "ipython3",
   "version": "3.11.1"
  },
  "vscode": {
   "interpreter": {
    "hash": "5c7b89af1651d0b8571dde13640ecdccf7d5a6204171d6ab33e7c296e100e08a"
   }
  }
 },
 "nbformat": 4,
 "nbformat_minor": 5
}
