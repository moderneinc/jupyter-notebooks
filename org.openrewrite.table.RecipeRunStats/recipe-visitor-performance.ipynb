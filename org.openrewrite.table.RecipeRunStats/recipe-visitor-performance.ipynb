{
  "cells": [
    {
      "attachments": {},
      "cell_type": "markdown",
      "id": "8b185aac",
      "metadata": {},
      "source": [
        "## Recipe visitor performance\n",
        "\n",
        "Performance of the visitor returned by a recipe's `getVisitor()` method, without the cumulative time spent running any recipes chained by that visitor."
      ]
    },
    {
      "cell_type": "code",
      "execution_count": null,
      "id": "5974ec6b-30a9-490a-9ea8-67446e9330f9",
      "metadata": {
        "trusted": true
      },
      "outputs": [],
      "source": [
        "data_table_file = \"./recipe-visitor-performance.xlsx\""
      ]
    },
    {
      "cell_type": "code",
      "execution_count": null,
      "id": "f4d0294c-02e3-45ef-bef4-31c28c378fbc",
      "metadata": {
        "trusted": true
      },
      "outputs": [],
      "source": [
        "import piplite\n",
        "\n",
        "await piplite.install('pandas')\n",
        "await piplite.install('seaborn')\n",
        "await piplite.install('openpyxl')"
      ]
    },
    {
      "cell_type": "code",
      "execution_count": null,
      "id": "46b010f9",
      "metadata": {
        "trusted": true
      },
      "outputs": [],
      "source": [
        "import pandas as pd\n",
        "import warnings\n",
        "warnings.simplefilter(\"ignore\")"
      ]
    },
    {
      "cell_type": "code",
      "execution_count": null,
      "id": "20f57df7",
      "metadata": {
        "trusted": true
      },
      "outputs": [],
      "source": [
        "df = pd.read_excel(data_table_file,engine=\"openpyxl\")"
      ]
    },
    {
      "cell_type": "code",
      "execution_count": null,
      "id": "b994f5ff-5520-44bf-8cff-0414f65ac17e",
      "metadata": {
        "tags": [],
        "trusted": true
      },
      "outputs": [],
      "source": [
        "df['ownGetVisitor'] = df['ownGetVisitor'] * 1e-9\n",
        "df['recipe'] = df['recipe'].transform(lambda s: s.split(\".\")[-1])"
      ]
    },
    {
      "cell_type": "code",
      "execution_count": null,
      "id": "25d82ee2-19f6-4b61-bfa7-6b7cb7d8651b",
      "metadata": {
        "trusted": true
      },
      "outputs": [],
      "source": [
        "import seaborn as sns\n",
        "import matplotlib.pyplot as plt\n",
        "import matplotlib.ticker as mtick\n",
        "\n",
        "sns.set(context=\"talk\")\n",
        "sns.set_style(\"whitegrid\")\n",
        "fig, ax = plt.subplots(figsize=(10,max(5, len(set(df['recipe'])) / 2)))\n",
        "\n",
        "sns.boxplot(x=\"ownGetVisitor\", y='recipe', data=df)\n",
        "ax.set_title(\"Recipe performance\")\n",
        "\n",
        "plt.xlabel(\"Time spent in visitor returned by getVisitor (seconds)\")\n",
        "plt.ylabel(\"Recipe\")\n",
        "\n",
        "plt.show()"
      ]
    }
  ],
  "metadata": {
    "kernelspec": {
      "display_name": "Python (Pyodide)",
      "language": "python",
      "name": "python"
    },
    "language_info": {
      "codemirror_mode": {
        "name": "python",
        "version": 3
      },
      "file_extension": ".py",
      "mimetype": "text/x-python",
      "name": "python",
      "nbconvert_exporter": "python",
      "pygments_lexer": "ipython3",
      "version": "3.8"
    }
  },
  "nbformat": 4,
  "nbformat_minor": 5
}
