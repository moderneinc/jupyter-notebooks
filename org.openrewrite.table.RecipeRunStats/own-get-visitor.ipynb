{
  "metadata": {
    "kernelspec": {
      "name": "python",
      "display_name": "Python (Pyodide)",
      "language": "python"
    },
    "language_info": {
      "codemirror_mode": {
        "name": "python",
        "version": 3
      },
      "file_extension": ".py",
      "mimetype": "text/x-python",
      "name": "python",
      "nbconvert_exporter": "python",
      "pygments_lexer": "ipython3",
      "version": "3.8"
    }
  },
  "nbformat_minor": 5,
  "nbformat": 4,
  "cells": [
    {
      "cell_type": "markdown",
      "source": "## Recipe performance\n\nPerformance of the visitor returned by a recipe's `getVisitor()` method, without the cumulative time spent running any recipes chained by that visitor.",
      "metadata": {},
      "id": "8b185aac"
    },
    {
      "cell_type": "code",
      "source": "data_table_file = \"./own-get-visitor.xlsx\"",
      "metadata": {
        "trusted": true
      },
      "execution_count": null,
      "outputs": [],
      "id": "5974ec6b-30a9-490a-9ea8-67446e9330f9"
    },
    {
      "cell_type": "code",
      "source": "import piplite\n\nawait piplite.install('pandas')\nawait piplite.install('seaborn')\nawait piplite.install('openpyxl')",
      "metadata": {
        "trusted": true
      },
      "execution_count": null,
      "outputs": [],
      "id": "f4d0294c-02e3-45ef-bef4-31c28c378fbc"
    },
    {
      "cell_type": "code",
      "source": "import pandas as pd\nimport warnings\nwarnings.simplefilter(\"ignore\")",
      "metadata": {
        "trusted": true
      },
      "execution_count": null,
      "outputs": [],
      "id": "46b010f9"
    },
    {
      "cell_type": "code",
      "source": "df = pd.read_excel(data_table_file,engine=\"openpyxl\")",
      "metadata": {
        "trusted": true
      },
      "execution_count": null,
      "outputs": [],
      "id": "20f57df7"
    },
    {
      "cell_type": "code",
      "source": "df['ownGetVisitor'] = df['ownGetVisitor'] * 1e-9\ndf['recipe'] = df['recipe'].transform(lambda s: s.split(\".\")[-1])",
      "metadata": {
        "tags": [],
        "trusted": true
      },
      "execution_count": null,
      "outputs": [],
      "id": "b994f5ff-5520-44bf-8cff-0414f65ac17e"
    },
    {
      "cell_type": "code",
      "source": "import seaborn as sns\nimport matplotlib.pyplot as plt\nimport matplotlib.ticker as mtick\n\nsns.set(context=\"talk\")\nsns.set_style(\"whitegrid\")\nfig, ax = plt.subplots(figsize=(10,max(5, len(set(df['recipe'])) / 2)))\n\nsns.boxplot(x=\"ownGetVisitor\", y='recipe', data=df)\nax.set_title(\"Recipe performance\")\n\nplt.xlabel(\"Time spent in visitor returned by getVisitor (seconds)\")\nplt.ylabel(\"Recipe\")\n\nplt.show()",
      "metadata": {
        "trusted": true
      },
      "execution_count": null,
      "outputs": [],
      "id": "25d82ee2-19f6-4b61-bfa7-6b7cb7d8651b"
    }
  ]
}