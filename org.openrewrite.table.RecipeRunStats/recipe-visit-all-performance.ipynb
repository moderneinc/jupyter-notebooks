{
  "cells": [
    {
      "attachments": {},
      "cell_type": "markdown",
      "id": "8b185aac",
      "metadata": {},
      "source": [
        "## Recipe `visit(List<SourceFile>, ExecutionContext ctx)` performance\n",
        "\n",
        "Some recipes don't implement `getVisitor()` but rather implement `visit(..)` and operate on all source files at the same time. The performance of the `visit(..)` method is shown here. Recipes have a default implementation of `visit(..)` which will be fast by default, so expect to see very short times for those."
      ]
    },
    {
      "cell_type": "code",
      "execution_count": null,
      "id": "5974ec6b-30a9-490a-9ea8-67446e9330f9",
      "metadata": {
        "trusted": true
      },
      "outputs": [],
      "source": [
        "data_table_file = \"./recipe-visit-all-performance.xlsx\""
      ]
    },
    {
      "cell_type": "code",
      "execution_count": null,
      "id": "f4d0294c-02e3-45ef-bef4-31c28c378fbc",
      "metadata": {
        "trusted": true
      },
      "outputs": [],
      "source": [
        "import piplite\n",
        "\n",
        "await piplite.install('pandas')\n",
        "await piplite.install('seaborn')\n",
        "await piplite.install('openpyxl')"
      ]
    },
    {
      "cell_type": "code",
      "execution_count": null,
      "id": "46b010f9",
      "metadata": {
        "trusted": true
      },
      "outputs": [],
      "source": [
        "import pandas as pd\n",
        "import warnings\n",
        "warnings.simplefilter(\"ignore\")"
      ]
    },
    {
      "cell_type": "code",
      "execution_count": null,
      "id": "20f57df7",
      "metadata": {
        "trusted": true
      },
      "outputs": [],
      "source": [
        "df = pd.read_excel(data_table_file,engine=\"openpyxl\")"
      ]
    },
    {
      "cell_type": "code",
      "execution_count": null,
      "id": "b994f5ff-5520-44bf-8cff-0414f65ac17e",
      "metadata": {
        "tags": [],
        "trusted": true
      },
      "outputs": [],
      "source": [
        "df['ownVisit'] = df['ownVisit'] * 1e-9\n",
        "df['recipe'] = df['recipe'].transform(lambda s: s.split(\".\")[-1])"
      ]
    },
    {
      "cell_type": "code",
      "execution_count": null,
      "id": "25d82ee2-19f6-4b61-bfa7-6b7cb7d8651b",
      "metadata": {
        "trusted": true
      },
      "outputs": [],
      "source": [
        "import seaborn as sns\n",
        "import matplotlib.pyplot as plt\n",
        "import matplotlib.ticker as mtick\n",
        "\n",
        "sns.set(context=\"talk\")\n",
        "sns.set_style(\"whitegrid\")\n",
        "fig, ax = plt.subplots(figsize=(10,max(5, len(set(df['recipe'])) / 2)))\n",
        "\n",
        "sns.boxplot(x=\"ownVisit\", y='recipe', data=df)\n",
        "ax.set_title(\"Recipe visit(..) performance\")\n",
        "\n",
        "plt.xlabel(\"Time spent in a recipe's visit(..) method (seconds)\")\n",
        "plt.ylabel(\"Recipe\")\n",
        "\n",
        "plt.show()"
      ]
    }
  ],
  "metadata": {
    "kernelspec": {
      "display_name": "Python (Pyodide)",
      "language": "python",
      "name": "python"
    },
    "language_info": {
      "codemirror_mode": {
        "name": "python",
        "version": 3
      },
      "file_extension": ".py",
      "mimetype": "text/x-python",
      "name": "python",
      "nbconvert_exporter": "python",
      "pygments_lexer": "ipython3",
      "version": "3.8"
    }
  },
  "nbformat": 4,
  "nbformat_minor": 5
}
