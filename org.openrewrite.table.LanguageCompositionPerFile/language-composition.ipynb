{
 "cells": [
  {
   "cell_type": "markdown",
   "source": [
    "## Language composition\n",
    "\n",
    "Display the language composition of the set of repositories. Produces visualizations of line count, file count, and weight by language and file extension."
   ],
   "metadata": {
    "collapsed": false
   }
  },
  {
   "cell_type": "code",
   "execution_count": null,
   "outputs": [],
   "source": [
    "data_table_file = './language-composition.xlsx'"
   ],
   "metadata": {
    "collapsed": false
   }
  },
  {
   "cell_type": "code",
   "execution_count": null,
   "outputs": [],
   "source": [
    "import piplite\n",
    "%pip install -q nbformat plotly\n",
    "await piplite.install('openpyxl')\n",
    "await piplite.install('pandas')"
   ],
   "metadata": {
    "collapsed": false
   }
  },
  {
   "cell_type": "code",
   "execution_count": null,
   "outputs": [],
   "source": [
    "import plotly.express as px\n",
    "import pandas as pd\n",
    "import warnings"
   ],
   "metadata": {
    "collapsed": false
   }
  },
  {
   "cell_type": "code",
   "execution_count": null,
   "id": "ecff6ac8",
   "metadata": {
    "scrolled": false
   },
   "outputs": [],
   "source": [
    "warnings.simplefilter(\"ignore\")\n",
    "df_file = pd.read_excel(data_table_file,engine=\"openpyxl\")\n",
    "df_file['fileCount'] = 1 # to create a total later\n",
    "df_file['fileType'] = df_file['sourcePath'].str.split('.').str[-1]\n",
    "df_file_grouped = df_file.groupby(by=['language','fileType','parserClass','hasParseFailures'],as_index=False).sum(numeric_only=True)"
   ]
  },
  {
   "cell_type": "code",
   "execution_count": null,
   "id": "3c0ab8ed",
   "metadata": {},
   "outputs": [],
   "source": [
    "# prepare the treemap path\n",
    "path=['language']"
   ]
  },
  {
   "cell_type": "code",
   "execution_count": null,
   "id": "45500064",
   "metadata": {},
   "outputs": [],
   "source": [
    "fig = px.treemap(\n",
    "    df_file_grouped,\n",
    "    path=path,\n",
    "    values='linesOfText',\n",
    "    title='Lines of text by language and file extension'\n",
    ")\n",
    "fig.data[0].textinfo = 'label+text+value'\n",
    "fig.show()"
   ]
  },
  {
   "cell_type": "code",
   "execution_count": null,
   "id": "3e725086",
   "metadata": {},
   "outputs": [],
   "source": [
    "fig = px.treemap(\n",
    "    df_file_grouped,\n",
    "    path=path,\n",
    "    values='weight',\n",
    "    title='LST weight by language and file extension'\n",
    ")\n",
    "fig.data[0].textinfo = 'label+text+value'\n",
    "fig.show()"
   ]
  },
  {
   "cell_type": "code",
   "execution_count": null,
   "id": "a5265dd8",
   "metadata": {},
   "outputs": [],
   "source": [
    "fig = px.treemap(\n",
    "    df_file_grouped,\n",
    "    path=path,\n",
    "    values='fileCount',\n",
    "    title=\"File count by language and file extension\"\n",
    ")\n",
    "fig.data[0].textinfo = 'label+text+value'\n",
    "fig.show()\n"
   ]
  },
  {
   "cell_type": "code",
   "execution_count": null,
   "outputs": [],
   "source": [],
   "metadata": {
    "collapsed": false
   }
  }
 ],
 "metadata": {
  "kernelspec": {
   "display_name": "Python 3 (ipykernel)",
   "language": "python",
   "name": "python3"
  },
  "language_info": {
   "codemirror_mode": {
    "name": "ipython",
    "version": 3
   },
   "file_extension": ".py",
   "mimetype": "text/x-python",
   "name": "python",
   "nbconvert_exporter": "python",
   "pygments_lexer": "ipython3",
   "version": "3.10.4"
  }
 },
 "nbformat": 4,
 "nbformat_minor": 5
}
